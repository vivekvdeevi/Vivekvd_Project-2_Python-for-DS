{
 "cells": [
  {
   "cell_type": "code",
   "execution_count": 50,
   "id": "4fd631e1",
   "metadata": {},
   "outputs": [],
   "source": [
    "# importing libraries\n",
    "\n",
    "import pandas as pd\n",
    "import numpy as np\n",
    "import matplotlib.pyplot as plt\n",
    "import seaborn as sns\n",
    "import warnings\n",
    "warnings.filterwarnings('ignore')\n",
    "\n",
    "from sklearn.preprocessing import StandardScaler,LabelEncoder,MinMaxScaler\n",
    "from scipy import stats\n",
    "from sklearn.cluster import KMeans\n",
    "from scipy.stats import zscore\n",
    "from scipy.spatial import distance\n",
    "from scipy.cluster.hierarchy import linkage, dendrogram, fcluster\n",
    "from sklearn.cluster import AgglomerativeClustering\n",
    "from sklearn.decomposition import PCA\n",
    "from sklearn.model_selection import train_test_split\n",
    "from sklearn import preprocessing\n",
    "from sklearn.preprocessing import Normalizer,MaxAbsScaler"
   ]
  },
  {
   "cell_type": "code",
   "execution_count": 3,
   "id": "20d7ff51",
   "metadata": {},
   "outputs": [
    {
     "data": {
      "text/html": [
       "<div>\n",
       "<style scoped>\n",
       "    .dataframe tbody tr th:only-of-type {\n",
       "        vertical-align: middle;\n",
       "    }\n",
       "\n",
       "    .dataframe tbody tr th {\n",
       "        vertical-align: top;\n",
       "    }\n",
       "\n",
       "    .dataframe thead th {\n",
       "        text-align: right;\n",
       "    }\n",
       "</style>\n",
       "<table border=\"1\" class=\"dataframe\">\n",
       "  <thead>\n",
       "    <tr style=\"text-align: right;\">\n",
       "      <th></th>\n",
       "      <th>Unnamed: 0</th>\n",
       "      <th>fit</th>\n",
       "      <th>user_id</th>\n",
       "      <th>bust size</th>\n",
       "      <th>item_id</th>\n",
       "      <th>weight</th>\n",
       "      <th>rating</th>\n",
       "      <th>rented for</th>\n",
       "      <th>review_text</th>\n",
       "      <th>body type</th>\n",
       "      <th>review_summary</th>\n",
       "      <th>category</th>\n",
       "      <th>height</th>\n",
       "      <th>size</th>\n",
       "      <th>age</th>\n",
       "      <th>review_date</th>\n",
       "    </tr>\n",
       "  </thead>\n",
       "  <tbody>\n",
       "    <tr>\n",
       "      <th>0</th>\n",
       "      <td>0</td>\n",
       "      <td>fit</td>\n",
       "      <td>420272</td>\n",
       "      <td>34d</td>\n",
       "      <td>2260466</td>\n",
       "      <td>137lbs</td>\n",
       "      <td>10.0</td>\n",
       "      <td>vacation</td>\n",
       "      <td>An adorable romper! Belt and zipper were a lit...</td>\n",
       "      <td>hourglass</td>\n",
       "      <td>So many compliments!</td>\n",
       "      <td>romper</td>\n",
       "      <td>5' 8\"</td>\n",
       "      <td>14</td>\n",
       "      <td>28.0</td>\n",
       "      <td>April 20, 2016</td>\n",
       "    </tr>\n",
       "    <tr>\n",
       "      <th>1</th>\n",
       "      <td>1</td>\n",
       "      <td>fit</td>\n",
       "      <td>273551</td>\n",
       "      <td>34b</td>\n",
       "      <td>153475</td>\n",
       "      <td>132lbs</td>\n",
       "      <td>10.0</td>\n",
       "      <td>other</td>\n",
       "      <td>I rented this dress for a photo shoot. The the...</td>\n",
       "      <td>straight &amp; narrow</td>\n",
       "      <td>I felt so glamourous!!!</td>\n",
       "      <td>gown</td>\n",
       "      <td>5' 6\"</td>\n",
       "      <td>12</td>\n",
       "      <td>36.0</td>\n",
       "      <td>June 18, 2013</td>\n",
       "    </tr>\n",
       "    <tr>\n",
       "      <th>2</th>\n",
       "      <td>2</td>\n",
       "      <td>fit</td>\n",
       "      <td>360448</td>\n",
       "      <td>NaN</td>\n",
       "      <td>1063761</td>\n",
       "      <td>NaN</td>\n",
       "      <td>10.0</td>\n",
       "      <td>party</td>\n",
       "      <td>This hugged in all the right places! It was a ...</td>\n",
       "      <td>NaN</td>\n",
       "      <td>It was a great time to celebrate the (almost) ...</td>\n",
       "      <td>sheath</td>\n",
       "      <td>5' 4\"</td>\n",
       "      <td>4</td>\n",
       "      <td>116.0</td>\n",
       "      <td>December 14, 2015</td>\n",
       "    </tr>\n",
       "    <tr>\n",
       "      <th>3</th>\n",
       "      <td>3</td>\n",
       "      <td>fit</td>\n",
       "      <td>909926</td>\n",
       "      <td>34c</td>\n",
       "      <td>126335</td>\n",
       "      <td>135lbs</td>\n",
       "      <td>8.0</td>\n",
       "      <td>formal affair</td>\n",
       "      <td>I rented this for my company's black tie award...</td>\n",
       "      <td>pear</td>\n",
       "      <td>Dress arrived on time and in perfect condition.</td>\n",
       "      <td>dress</td>\n",
       "      <td>5' 5\"</td>\n",
       "      <td>8</td>\n",
       "      <td>34.0</td>\n",
       "      <td>February 12, 2014</td>\n",
       "    </tr>\n",
       "    <tr>\n",
       "      <th>4</th>\n",
       "      <td>4</td>\n",
       "      <td>fit</td>\n",
       "      <td>151944</td>\n",
       "      <td>34b</td>\n",
       "      <td>616682</td>\n",
       "      <td>145lbs</td>\n",
       "      <td>10.0</td>\n",
       "      <td>wedding</td>\n",
       "      <td>I have always been petite in my upper body and...</td>\n",
       "      <td>athletic</td>\n",
       "      <td>Was in love with this dress !!!</td>\n",
       "      <td>gown</td>\n",
       "      <td>5' 9\"</td>\n",
       "      <td>12</td>\n",
       "      <td>27.0</td>\n",
       "      <td>September 26, 2016</td>\n",
       "    </tr>\n",
       "  </tbody>\n",
       "</table>\n",
       "</div>"
      ],
      "text/plain": [
       "   Unnamed: 0  fit  user_id bust size  item_id  weight  rating     rented for  \\\n",
       "0           0  fit   420272       34d  2260466  137lbs    10.0       vacation   \n",
       "1           1  fit   273551       34b   153475  132lbs    10.0          other   \n",
       "2           2  fit   360448       NaN  1063761     NaN    10.0          party   \n",
       "3           3  fit   909926       34c   126335  135lbs     8.0  formal affair   \n",
       "4           4  fit   151944       34b   616682  145lbs    10.0        wedding   \n",
       "\n",
       "                                         review_text          body type  \\\n",
       "0  An adorable romper! Belt and zipper were a lit...          hourglass   \n",
       "1  I rented this dress for a photo shoot. The the...  straight & narrow   \n",
       "2  This hugged in all the right places! It was a ...                NaN   \n",
       "3  I rented this for my company's black tie award...               pear   \n",
       "4  I have always been petite in my upper body and...           athletic   \n",
       "\n",
       "                                      review_summary category height  size  \\\n",
       "0                               So many compliments!   romper  5' 8\"    14   \n",
       "1                            I felt so glamourous!!!     gown  5' 6\"    12   \n",
       "2  It was a great time to celebrate the (almost) ...   sheath  5' 4\"     4   \n",
       "3   Dress arrived on time and in perfect condition.     dress  5' 5\"     8   \n",
       "4                    Was in love with this dress !!!     gown  5' 9\"    12   \n",
       "\n",
       "     age         review_date  \n",
       "0   28.0      April 20, 2016  \n",
       "1   36.0       June 18, 2013  \n",
       "2  116.0   December 14, 2015  \n",
       "3   34.0   February 12, 2014  \n",
       "4   27.0  September 26, 2016  "
      ]
     },
     "execution_count": 3,
     "metadata": {},
     "output_type": "execute_result"
    }
   ],
   "source": [
    "1. #Load the data\n",
    "df = pd.read_csv('renttherunway.csv')\n",
    "df.head()"
   ]
  },
  {
   "cell_type": "code",
   "execution_count": 4,
   "id": "ea631645",
   "metadata": {},
   "outputs": [
    {
     "name": "stdout",
     "output_type": "stream",
     "text": [
      "<class 'pandas.core.frame.DataFrame'>\n",
      "RangeIndex: 192544 entries, 0 to 192543\n",
      "Data columns (total 16 columns):\n",
      " #   Column          Non-Null Count   Dtype  \n",
      "---  ------          --------------   -----  \n",
      " 0   Unnamed: 0      192544 non-null  int64  \n",
      " 1   fit             192544 non-null  object \n",
      " 2   user_id         192544 non-null  int64  \n",
      " 3   bust size       174133 non-null  object \n",
      " 4   item_id         192544 non-null  int64  \n",
      " 5   weight          162562 non-null  object \n",
      " 6   rating          192462 non-null  float64\n",
      " 7   rented for      192534 non-null  object \n",
      " 8   review_text     192482 non-null  object \n",
      " 9   body type       177907 non-null  object \n",
      " 10  review_summary  192199 non-null  object \n",
      " 11  category        192544 non-null  object \n",
      " 12  height          191867 non-null  object \n",
      " 13  size            192544 non-null  int64  \n",
      " 14  age             191584 non-null  float64\n",
      " 15  review_date     192544 non-null  object \n",
      "dtypes: float64(2), int64(4), object(10)\n",
      "memory usage: 23.5+ MB\n"
     ]
    }
   ],
   "source": [
    "2. #Check the first few samples, shape, info of the data and try to familiarize\n",
    "#yourself with different features (2)\n",
    "df.head(4)\n",
    "df.shape\n",
    "df.info()"
   ]
  },
  {
   "cell_type": "code",
   "execution_count": 5,
   "id": "7e974d2d",
   "metadata": {},
   "outputs": [],
   "source": [
    "#There are 16 columns in the dataset and 192544 instances.\n",
    "#We have around 10 object type variables, 2 float type and rest all interger datatype variables.\n"
   ]
  },
  {
   "cell_type": "code",
   "execution_count": 6,
   "id": "f5194081",
   "metadata": {},
   "outputs": [
    {
     "data": {
      "text/plain": [
       "0"
      ]
     },
     "execution_count": 6,
     "metadata": {},
     "output_type": "execute_result"
    }
   ],
   "source": [
    "3. #Check if there are any duplicate records in the dataset? If any, drop them.(1)\n",
    "len(df[df.duplicated()])"
   ]
  },
  {
   "cell_type": "code",
   "execution_count": 7,
   "id": "f5c21aec",
   "metadata": {},
   "outputs": [
    {
     "data": {
      "text/plain": [
       "0         137lbs\n",
       "1         132lbs\n",
       "2            NaN\n",
       "3         135lbs\n",
       "4         145lbs\n",
       "           ...  \n",
       "192539    140lbs\n",
       "192540    100lbs\n",
       "192541    135lbs\n",
       "192542    165lbs\n",
       "192543    155lbs\n",
       "Name: weight, Length: 192544, dtype: object"
      ]
     },
     "execution_count": 7,
     "metadata": {},
     "output_type": "execute_result"
    }
   ],
   "source": [
    "df['weight']"
   ]
  },
  {
   "cell_type": "code",
   "execution_count": 8,
   "id": "ba3d7463",
   "metadata": {},
   "outputs": [],
   "source": [
    "4. #Drop the columns which you think redundant for the analysis.(Hint: drop\n",
    "#columns like ‘id’, ‘review’) (1)\n",
    "df=df.drop(columns=['item_id','user_id','review_text','review_summary'],axis=1)"
   ]
  },
  {
   "cell_type": "code",
   "execution_count": 9,
   "id": "8b833b83",
   "metadata": {},
   "outputs": [
    {
     "data": {
      "text/plain": [
       "5.0"
      ]
     },
     "execution_count": 9,
     "metadata": {},
     "output_type": "execute_result"
    }
   ],
   "source": [
    "5. #Check the column 'weight', Is there any presence of string data? If yes, remove\n",
    "#the string data and convert to float. (Hint: 'weight' has the suffix as lbs) (2)\n",
    "            \n",
    "\n"
   ]
  },
  {
   "cell_type": "code",
   "execution_count": 10,
   "id": "2fd94f66",
   "metadata": {},
   "outputs": [
    {
     "data": {
      "text/plain": [
       "0         137.0\n",
       "1         132.0\n",
       "2           NaN\n",
       "3         135.0\n",
       "4         145.0\n",
       "          ...  \n",
       "192539    140.0\n",
       "192540    100.0\n",
       "192541    135.0\n",
       "192542    165.0\n",
       "192543    155.0\n",
       "Name: weight, Length: 192544, dtype: float32"
      ]
     },
     "execution_count": 10,
     "metadata": {},
     "output_type": "execute_result"
    }
   ],
   "source": [
    "\n",
    "# Step 1: Remove the 'lbs' suffix from the 'weight' column\n",
    "df['weight'] = df['weight'].str.replace('lbs', '')\n",
    "\n",
    "# Step 2: Convert the 'weight' column to float\n",
    "df['weight'] = pd.to_numeric(df['weight'], errors='coerce', downcast='float')\n",
    "df['weight']"
   ]
  },
  {
   "cell_type": "code",
   "execution_count": 11,
   "id": "064d4f1a",
   "metadata": {},
   "outputs": [
    {
     "data": {
      "text/plain": [
       "array(['vacation', 'other', 'party', 'formal affair', 'wedding', 'date',\n",
       "       'everyday', 'work', nan, 'party: cocktail'], dtype=object)"
      ]
     },
     "execution_count": 11,
     "metadata": {},
     "output_type": "execute_result"
    }
   ],
   "source": [
    "6.#Check the unique categories for the column 'rented for' \n",
    "df['rented for'].unique()"
   ]
  },
  {
   "cell_type": "code",
   "execution_count": 12,
   "id": "0a2cc3dd",
   "metadata": {},
   "outputs": [
    {
     "data": {
      "text/plain": [
       "array(['vacation', 'other', 'party', 'formal affair', 'wedding', 'date',\n",
       "       'everyday', 'work', nan], dtype=object)"
      ]
     },
     "execution_count": 12,
     "metadata": {},
     "output_type": "execute_result"
    }
   ],
   "source": [
    "# Group 'party: cocktail' with 'party'\n",
    "df['rented for'] = df['rented for'].replace('party: cocktail', 'party')\n",
    "df['rented for'].unique()"
   ]
  },
  {
   "cell_type": "code",
   "execution_count": 13,
   "id": "343f9d92",
   "metadata": {},
   "outputs": [
    {
     "data": {
      "text/plain": [
       "0         5' 8\"\n",
       "1         5' 6\"\n",
       "2         5' 4\"\n",
       "3         5' 5\"\n",
       "4         5' 9\"\n",
       "          ...  \n",
       "192539    5' 9\"\n",
       "192540    5' 1\"\n",
       "192541    5' 8\"\n",
       "192542    5' 6\"\n",
       "192543    5' 6\"\n",
       "Name: height, Length: 192544, dtype: object"
      ]
     },
     "execution_count": 13,
     "metadata": {},
     "output_type": "execute_result"
    }
   ],
   "source": [
    "7.#The column 'height' is in feet with a quotation mark, Convert to inches with\n",
    "#float datatype. (3)\n",
    "df['height']"
   ]
  },
  {
   "cell_type": "code",
   "execution_count": 14,
   "id": "72e99ccc",
   "metadata": {},
   "outputs": [
    {
     "name": "stdout",
     "output_type": "stream",
     "text": [
      "        Unnamed: 0  fit bust size  weight  rating     rented for  \\\n",
      "0                0  fit       34d   137.0    10.0       vacation   \n",
      "1                1  fit       34b   132.0    10.0          other   \n",
      "2                2  fit       NaN     NaN    10.0          party   \n",
      "3                3  fit       34c   135.0     8.0  formal affair   \n",
      "4                4  fit       34b   145.0    10.0        wedding   \n",
      "...            ...  ...       ...     ...     ...            ...   \n",
      "192539      192539  fit      34dd   140.0    10.0           work   \n",
      "192540      192540  fit       32c   100.0    10.0           work   \n",
      "192541      192541  fit       36a   135.0     6.0       everyday   \n",
      "192542      192542  fit       36c   165.0    10.0        wedding   \n",
      "192543      192543  fit       36b   155.0    10.0        wedding   \n",
      "\n",
      "                body type  category  height  size    age         review_date  \n",
      "0               hourglass    romper    68.0    14   28.0      April 20, 2016  \n",
      "1       straight & narrow      gown    66.0    12   36.0       June 18, 2013  \n",
      "2                     NaN    sheath    64.0     4  116.0   December 14, 2015  \n",
      "3                    pear     dress    65.0     8   34.0   February 12, 2014  \n",
      "4                athletic      gown    69.0    12   27.0  September 26, 2016  \n",
      "...                   ...       ...     ...   ...    ...                 ...  \n",
      "192539          hourglass  jumpsuit    69.0     8   42.0        May 18, 2016  \n",
      "192540             petite     dress    61.0     4   29.0  September 30, 2016  \n",
      "192541  straight & narrow     dress    68.0     8   31.0       March 4, 2016  \n",
      "192542               pear     dress    66.0    16   31.0   November 25, 2015  \n",
      "192543           athletic      gown    66.0    16   30.0     August 29, 2017  \n",
      "\n",
      "[192544 rows x 12 columns]\n"
     ]
    }
   ],
   "source": [
    "# Step 1: Extract feet and inches using a regular expression \n",
    "df[['feet', 'inches']] = df['height'].str.extract(r\"(\\d+)\\'\\s*(\\d+)\\\"\")\n",
    "df['feet']\n",
    "\n",
    "# Step 2: Fill missing (NaN) values with zeros\n",
    "df[['feet', 'inches']] = df[['feet', 'inches']].fillna(0)\n",
    "\n",
    "# Step 3: Convert feet and inches to total inches\n",
    "df['height'] = df['feet'].astype(int) * 12 + df['inches'].astype(int)\n",
    "\n",
    "# Step 4: Drop unnecessary columns\n",
    "df.drop(['feet', 'inches'], axis=1, inplace=True)\n",
    "\n",
    "# Step 5: Convert the 'height' column to float datatype\n",
    "df['height'] = df['height'].astype(float)\n",
    "\n",
    "print(df)\n",
    "\n",
    "\n",
    "\n",
    "\n"
   ]
  },
  {
   "cell_type": "code",
   "execution_count": 15,
   "id": "a3cbe8df",
   "metadata": {},
   "outputs": [
    {
     "data": {
      "text/plain": [
       "Unnamed: 0         0\n",
       "fit                0\n",
       "bust size      18411\n",
       "weight         29982\n",
       "rating            82\n",
       "rented for        10\n",
       "body type      14637\n",
       "category           0\n",
       "height             0\n",
       "size               0\n",
       "age              960\n",
       "review_date        0\n",
       "dtype: int64"
      ]
     },
     "execution_count": 15,
     "metadata": {},
     "output_type": "execute_result"
    }
   ],
   "source": [
    "8.#Check for missing values in each column of the dataset? If it exists, impute\n",
    "#them with appropriate methods. (3)\n",
    "df.isnull().sum()"
   ]
  },
  {
   "cell_type": "code",
   "execution_count": 16,
   "id": "74825614",
   "metadata": {},
   "outputs": [],
   "source": [
    "#imputing rating with median \n",
    "median_value = df['rating'].median()\n",
    "df['rating'] = df['rating'].fillna(median_value)"
   ]
  },
  {
   "cell_type": "code",
   "execution_count": 17,
   "id": "7a8a181d",
   "metadata": {},
   "outputs": [],
   "source": [
    "#imputing bust size with a constant\n",
    "constant_value = \"Unknown\"  \n",
    "df['bust size'] = df['bust size'].fillna(constant_value)"
   ]
  },
  {
   "cell_type": "code",
   "execution_count": 18,
   "id": "4dbfb81f",
   "metadata": {},
   "outputs": [],
   "source": [
    "#imputing weight with mean\n",
    "mean_value = df['weight'].mean()\n",
    "df['weight'] = df['weight'].fillna(mean_value)"
   ]
  },
  {
   "cell_type": "code",
   "execution_count": 19,
   "id": "d80517c1",
   "metadata": {},
   "outputs": [],
   "source": [
    "#impute rented for with constant value\n",
    "constant_value = \"unknown\"  \n",
    "df['rented for'] = df['rented for'].fillna(constant_value)"
   ]
  },
  {
   "cell_type": "code",
   "execution_count": 20,
   "id": "a919088a",
   "metadata": {},
   "outputs": [],
   "source": [
    "#impute body type with constant value\n",
    "constant_value = \"unknown\"  \n",
    "df['body type'] = df['body type'].fillna(constant_value)"
   ]
  },
  {
   "cell_type": "code",
   "execution_count": 21,
   "id": "ef38c7ce",
   "metadata": {},
   "outputs": [],
   "source": [
    "#impute age with mean\n",
    "mean_age = df['age'].mean()\n",
    "df['age'] = df['age'].fillna(mean_age)"
   ]
  },
  {
   "cell_type": "code",
   "execution_count": 22,
   "id": "4ac73c26",
   "metadata": {},
   "outputs": [
    {
     "data": {
      "text/plain": [
       "Unnamed: 0     0\n",
       "fit            0\n",
       "bust size      0\n",
       "weight         0\n",
       "rating         0\n",
       "rented for     0\n",
       "body type      0\n",
       "category       0\n",
       "height         0\n",
       "size           0\n",
       "age            0\n",
       "review_date    0\n",
       "dtype: int64"
      ]
     },
     "execution_count": 22,
     "metadata": {},
     "output_type": "execute_result"
    }
   ],
   "source": [
    "df.isnull().sum()"
   ]
  },
  {
   "cell_type": "code",
   "execution_count": 23,
   "id": "132a7ed2",
   "metadata": {},
   "outputs": [
    {
     "data": {
      "text/html": [
       "<div>\n",
       "<style scoped>\n",
       "    .dataframe tbody tr th:only-of-type {\n",
       "        vertical-align: middle;\n",
       "    }\n",
       "\n",
       "    .dataframe tbody tr th {\n",
       "        vertical-align: top;\n",
       "    }\n",
       "\n",
       "    .dataframe thead th {\n",
       "        text-align: right;\n",
       "    }\n",
       "</style>\n",
       "<table border=\"1\" class=\"dataframe\">\n",
       "  <thead>\n",
       "    <tr style=\"text-align: right;\">\n",
       "      <th></th>\n",
       "      <th>Unnamed: 0</th>\n",
       "      <th>weight</th>\n",
       "      <th>rating</th>\n",
       "      <th>height</th>\n",
       "      <th>size</th>\n",
       "      <th>age</th>\n",
       "    </tr>\n",
       "  </thead>\n",
       "  <tbody>\n",
       "    <tr>\n",
       "      <th>count</th>\n",
       "      <td>192544.000000</td>\n",
       "      <td>192544.000000</td>\n",
       "      <td>192544.000000</td>\n",
       "      <td>192544.000000</td>\n",
       "      <td>192544.000000</td>\n",
       "      <td>192544.000000</td>\n",
       "    </tr>\n",
       "    <tr>\n",
       "      <th>mean</th>\n",
       "      <td>96271.500000</td>\n",
       "      <td>137.391708</td>\n",
       "      <td>9.092758</td>\n",
       "      <td>65.080984</td>\n",
       "      <td>12.245175</td>\n",
       "      <td>33.871017</td>\n",
       "    </tr>\n",
       "    <tr>\n",
       "      <th>std</th>\n",
       "      <td>55582.809453</td>\n",
       "      <td>20.126442</td>\n",
       "      <td>1.429862</td>\n",
       "      <td>4.691938</td>\n",
       "      <td>8.494877</td>\n",
       "      <td>8.037969</td>\n",
       "    </tr>\n",
       "    <tr>\n",
       "      <th>min</th>\n",
       "      <td>0.000000</td>\n",
       "      <td>50.000000</td>\n",
       "      <td>2.000000</td>\n",
       "      <td>0.000000</td>\n",
       "      <td>0.000000</td>\n",
       "      <td>0.000000</td>\n",
       "    </tr>\n",
       "    <tr>\n",
       "      <th>25%</th>\n",
       "      <td>48135.750000</td>\n",
       "      <td>125.000000</td>\n",
       "      <td>8.000000</td>\n",
       "      <td>63.000000</td>\n",
       "      <td>8.000000</td>\n",
       "      <td>29.000000</td>\n",
       "    </tr>\n",
       "    <tr>\n",
       "      <th>50%</th>\n",
       "      <td>96271.500000</td>\n",
       "      <td>137.391708</td>\n",
       "      <td>10.000000</td>\n",
       "      <td>65.000000</td>\n",
       "      <td>12.000000</td>\n",
       "      <td>32.000000</td>\n",
       "    </tr>\n",
       "    <tr>\n",
       "      <th>75%</th>\n",
       "      <td>144407.250000</td>\n",
       "      <td>145.000000</td>\n",
       "      <td>10.000000</td>\n",
       "      <td>67.000000</td>\n",
       "      <td>16.000000</td>\n",
       "      <td>37.000000</td>\n",
       "    </tr>\n",
       "    <tr>\n",
       "      <th>max</th>\n",
       "      <td>192543.000000</td>\n",
       "      <td>300.000000</td>\n",
       "      <td>10.000000</td>\n",
       "      <td>78.000000</td>\n",
       "      <td>58.000000</td>\n",
       "      <td>117.000000</td>\n",
       "    </tr>\n",
       "  </tbody>\n",
       "</table>\n",
       "</div>"
      ],
      "text/plain": [
       "          Unnamed: 0         weight         rating         height  \\\n",
       "count  192544.000000  192544.000000  192544.000000  192544.000000   \n",
       "mean    96271.500000     137.391708       9.092758      65.080984   \n",
       "std     55582.809453      20.126442       1.429862       4.691938   \n",
       "min         0.000000      50.000000       2.000000       0.000000   \n",
       "25%     48135.750000     125.000000       8.000000      63.000000   \n",
       "50%     96271.500000     137.391708      10.000000      65.000000   \n",
       "75%    144407.250000     145.000000      10.000000      67.000000   \n",
       "max    192543.000000     300.000000      10.000000      78.000000   \n",
       "\n",
       "                size            age  \n",
       "count  192544.000000  192544.000000  \n",
       "mean       12.245175      33.871017  \n",
       "std         8.494877       8.037969  \n",
       "min         0.000000       0.000000  \n",
       "25%         8.000000      29.000000  \n",
       "50%        12.000000      32.000000  \n",
       "75%        16.000000      37.000000  \n",
       "max        58.000000     117.000000  "
      ]
     },
     "execution_count": 23,
     "metadata": {},
     "output_type": "execute_result"
    }
   ],
   "source": [
    "9. #Check the statistical summary for the numerical values \n",
    "include = ['float', 'int']\n",
    "df.describe(include=include)"
   ]
  },
  {
   "cell_type": "code",
   "execution_count": 24,
   "id": "8382794e",
   "metadata": {},
   "outputs": [],
   "source": [
    "#"
   ]
  },
  {
   "cell_type": "code",
   "execution_count": 25,
   "id": "548030f4",
   "metadata": {},
   "outputs": [
    {
     "data": {
      "text/plain": [
       "count      192544\n",
       "unique          9\n",
       "top       wedding\n",
       "freq        57784\n",
       "Name: rented for, dtype: object"
      ]
     },
     "execution_count": 25,
     "metadata": {},
     "output_type": "execute_result"
    }
   ],
   "source": [
    "#Checking statistical summary for the categorical columns\n",
    "df['rented for'].describe()"
   ]
  },
  {
   "cell_type": "code",
   "execution_count": 26,
   "id": "563f519d",
   "metadata": {},
   "outputs": [],
   "source": [
    "#We notice that there are 9 unique values for rented for column. 'Wedding' is the most occuring value."
   ]
  },
  {
   "cell_type": "code",
   "execution_count": 27,
   "id": "a49b062d",
   "metadata": {},
   "outputs": [
    {
     "data": {
      "text/plain": [
       "count        192544\n",
       "unique            8\n",
       "top       hourglass\n",
       "freq          55349\n",
       "Name: body type, dtype: object"
      ]
     },
     "execution_count": 27,
     "metadata": {},
     "output_type": "execute_result"
    }
   ],
   "source": [
    "df['body type'].describe()"
   ]
  },
  {
   "cell_type": "code",
   "execution_count": 28,
   "id": "542d8d6f",
   "metadata": {},
   "outputs": [],
   "source": [
    "#We notice that there are 8 unique values for body type column. 'hourglass' is the most occuring value."
   ]
  },
  {
   "cell_type": "code",
   "execution_count": 29,
   "id": "dbcf5154",
   "metadata": {},
   "outputs": [
    {
     "data": {
      "image/png": "[encoded data removed]",
      "text/plain": [
       "<Figure size 640x480 with 1 Axes>"
      ]
     },
     "metadata": {},
     "output_type": "display_data"
    }
   ],
   "source": [
    "#10. Are there outliers present in the column age? If yes, treat them with the\n",
    "#appropriate method. (3)\n",
    "sns.boxplot(df['age'])\n",
    "plt.show()"
   ]
  },
  {
   "cell_type": "code",
   "execution_count": 30,
   "id": "afd41275",
   "metadata": {},
   "outputs": [],
   "source": [
    "df['age_trans']=np.log(df['age'])"
   ]
  },
  {
   "cell_type": "code",
   "execution_count": 31,
   "id": "413ceb73",
   "metadata": {},
   "outputs": [
    {
     "data": {
      "image/png": "[encoded data removed]",
      "text/plain": [
       "<Figure size 640x480 with 1 Axes>"
      ]
     },
     "metadata": {},
     "output_type": "display_data"
    }
   ],
   "source": [
    "sns.boxplot(df['age_trans'])\n",
    "plt.show()"
   ]
  },
  {
   "cell_type": "code",
   "execution_count": 32,
   "id": "ed0ea209",
   "metadata": {},
   "outputs": [],
   "source": [
    "#Dropping age_trans\n",
    "df = df.drop(['age_trans'], axis = 1)"
   ]
  },
  {
   "cell_type": "code",
   "execution_count": 33,
   "id": "4a2f93a7",
   "metadata": {},
   "outputs": [
    {
     "data": {
      "image/png": "[encoded data removed]",
      "text/plain": [
       "<Figure size 640x480 with 1 Axes>"
      ]
     },
     "metadata": {},
     "output_type": "display_data"
    }
   ],
   "source": [
    "#Check the distribution of the different categories in the column 'rented for'\n",
    "#using appropriate plot. (2)\n",
    "df['rented for'].value_counts().plot(kind='pie',autopct='%1.0f%%')\n",
    "plt.show()"
   ]
  },
  {
   "cell_type": "code",
   "execution_count": 34,
   "id": "1af1d24e",
   "metadata": {},
   "outputs": [],
   "source": [
    "#12. Encode the categorical variables in the dataset. (1)\n",
    "\n",
    "cate = ['rented for','body type']\n",
    "lbl_encode = LabelEncoder()\n",
    "for i in cate:\n",
    "    df[i] = df[[i]].apply(lbl_encode.fit_transform)"
   ]
  },
  {
   "cell_type": "code",
   "execution_count": 35,
   "id": "a0e91543",
   "metadata": {},
   "outputs": [
    {
     "data": {
      "text/html": [
       "<div>\n",
       "<style scoped>\n",
       "    .dataframe tbody tr th:only-of-type {\n",
       "        vertical-align: middle;\n",
       "    }\n",
       "\n",
       "    .dataframe tbody tr th {\n",
       "        vertical-align: top;\n",
       "    }\n",
       "\n",
       "    .dataframe thead th {\n",
       "        text-align: right;\n",
       "    }\n",
       "</style>\n",
       "<table border=\"1\" class=\"dataframe\">\n",
       "  <thead>\n",
       "    <tr style=\"text-align: right;\">\n",
       "      <th></th>\n",
       "      <th>Unnamed: 0</th>\n",
       "      <th>weight</th>\n",
       "      <th>rating</th>\n",
       "      <th>rented for</th>\n",
       "      <th>body type</th>\n",
       "      <th>height</th>\n",
       "      <th>size</th>\n",
       "      <th>age</th>\n",
       "    </tr>\n",
       "  </thead>\n",
       "  <tbody>\n",
       "    <tr>\n",
       "      <th>0</th>\n",
       "      <td>0</td>\n",
       "      <td>137.000000</td>\n",
       "      <td>10.0</td>\n",
       "      <td>6</td>\n",
       "      <td>3</td>\n",
       "      <td>68.0</td>\n",
       "      <td>14</td>\n",
       "      <td>28.0</td>\n",
       "    </tr>\n",
       "    <tr>\n",
       "      <th>1</th>\n",
       "      <td>1</td>\n",
       "      <td>132.000000</td>\n",
       "      <td>10.0</td>\n",
       "      <td>3</td>\n",
       "      <td>6</td>\n",
       "      <td>66.0</td>\n",
       "      <td>12</td>\n",
       "      <td>36.0</td>\n",
       "    </tr>\n",
       "    <tr>\n",
       "      <th>2</th>\n",
       "      <td>2</td>\n",
       "      <td>137.391708</td>\n",
       "      <td>10.0</td>\n",
       "      <td>4</td>\n",
       "      <td>7</td>\n",
       "      <td>64.0</td>\n",
       "      <td>4</td>\n",
       "      <td>116.0</td>\n",
       "    </tr>\n",
       "    <tr>\n",
       "      <th>3</th>\n",
       "      <td>3</td>\n",
       "      <td>135.000000</td>\n",
       "      <td>8.0</td>\n",
       "      <td>2</td>\n",
       "      <td>4</td>\n",
       "      <td>65.0</td>\n",
       "      <td>8</td>\n",
       "      <td>34.0</td>\n",
       "    </tr>\n",
       "    <tr>\n",
       "      <th>4</th>\n",
       "      <td>4</td>\n",
       "      <td>145.000000</td>\n",
       "      <td>10.0</td>\n",
       "      <td>7</td>\n",
       "      <td>1</td>\n",
       "      <td>69.0</td>\n",
       "      <td>12</td>\n",
       "      <td>27.0</td>\n",
       "    </tr>\n",
       "  </tbody>\n",
       "</table>\n",
       "</div>"
      ],
      "text/plain": [
       "   Unnamed: 0      weight  rating  rented for  body type  height  size    age\n",
       "0           0  137.000000    10.0           6          3    68.0    14   28.0\n",
       "1           1  132.000000    10.0           3          6    66.0    12   36.0\n",
       "2           2  137.391708    10.0           4          7    64.0     4  116.0\n",
       "3           3  135.000000     8.0           2          4    65.0     8   34.0\n",
       "4           4  145.000000    10.0           7          1    69.0    12   27.0"
      ]
     },
     "execution_count": 35,
     "metadata": {},
     "output_type": "execute_result"
    }
   ],
   "source": [
    "#13. Standardize the data, so that the values are within a particular range. (1)\n",
    "##dropping string data\n",
    "dff_final = df.drop(['category','bust size','fit','review_date'], axis = 1)\n",
    "dff_final.head()"
   ]
  },
  {
   "cell_type": "code",
   "execution_count": 36,
   "id": "faa1917a",
   "metadata": {},
   "outputs": [
    {
     "name": "stdout",
     "output_type": "stream",
     "text": [
      "<class 'pandas.core.frame.DataFrame'>\n",
      "RangeIndex: 192544 entries, 0 to 192543\n",
      "Data columns (total 8 columns):\n",
      " #   Column      Non-Null Count   Dtype  \n",
      "---  ------      --------------   -----  \n",
      " 0   Unnamed: 0  192544 non-null  int64  \n",
      " 1   weight      192544 non-null  float32\n",
      " 2   rating      192544 non-null  float64\n",
      " 3   rented for  192544 non-null  int32  \n",
      " 4   body type   192544 non-null  int32  \n",
      " 5   height      192544 non-null  float64\n",
      " 6   size        192544 non-null  int64  \n",
      " 7   age         192544 non-null  float64\n",
      "dtypes: float32(1), float64(3), int32(2), int64(2)\n",
      "memory usage: 9.5 MB\n"
     ]
    }
   ],
   "source": [
    "dff_final.info()"
   ]
  },
  {
   "cell_type": "code",
   "execution_count": 37,
   "id": "750a1cd6",
   "metadata": {},
   "outputs": [
    {
     "data": {
      "text/plain": [
       "array([6, 3, 4, 2, 7, 0, 1, 8, 5])"
      ]
     },
     "execution_count": 37,
     "metadata": {},
     "output_type": "execute_result"
    }
   ],
   "source": [
    "dff_final['rented for'].unique()"
   ]
  },
  {
   "cell_type": "code",
   "execution_count": 38,
   "id": "1dcc80b5",
   "metadata": {},
   "outputs": [
    {
     "data": {
      "text/html": [
       "<div>\n",
       "<style scoped>\n",
       "    .dataframe tbody tr th:only-of-type {\n",
       "        vertical-align: middle;\n",
       "    }\n",
       "\n",
       "    .dataframe tbody tr th {\n",
       "        vertical-align: top;\n",
       "    }\n",
       "\n",
       "    .dataframe thead th {\n",
       "        text-align: right;\n",
       "    }\n",
       "</style>\n",
       "<table border=\"1\" class=\"dataframe\">\n",
       "  <thead>\n",
       "    <tr style=\"text-align: right;\">\n",
       "      <th></th>\n",
       "      <th>Unnamed: 0</th>\n",
       "      <th>weight</th>\n",
       "      <th>rating</th>\n",
       "      <th>rented for</th>\n",
       "      <th>body type</th>\n",
       "      <th>height</th>\n",
       "      <th>size</th>\n",
       "      <th>age</th>\n",
       "    </tr>\n",
       "  </thead>\n",
       "  <tbody>\n",
       "    <tr>\n",
       "      <th>0</th>\n",
       "      <td>-1.732042</td>\n",
       "      <td>-1.946600e-02</td>\n",
       "      <td>0.634498</td>\n",
       "      <td>0.664564</td>\n",
       "      <td>-0.142497</td>\n",
       "      <td>0.622136</td>\n",
       "      <td>0.206575</td>\n",
       "      <td>-0.730412</td>\n",
       "    </tr>\n",
       "    <tr>\n",
       "      <th>1</th>\n",
       "      <td>-1.732024</td>\n",
       "      <td>-2.679414e-01</td>\n",
       "      <td>0.634498</td>\n",
       "      <td>-0.536429</td>\n",
       "      <td>1.434341</td>\n",
       "      <td>0.195872</td>\n",
       "      <td>-0.028862</td>\n",
       "      <td>0.264866</td>\n",
       "    </tr>\n",
       "    <tr>\n",
       "      <th>2</th>\n",
       "      <td>-1.732006</td>\n",
       "      <td>-2.666196e-08</td>\n",
       "      <td>0.634498</td>\n",
       "      <td>-0.136098</td>\n",
       "      <td>1.959954</td>\n",
       "      <td>-0.230392</td>\n",
       "      <td>-0.970608</td>\n",
       "      <td>10.217655</td>\n",
       "    </tr>\n",
       "    <tr>\n",
       "      <th>3</th>\n",
       "      <td>-1.731988</td>\n",
       "      <td>-1.188562e-01</td>\n",
       "      <td>-0.764242</td>\n",
       "      <td>-0.936760</td>\n",
       "      <td>0.383116</td>\n",
       "      <td>-0.017260</td>\n",
       "      <td>-0.499735</td>\n",
       "      <td>0.016047</td>\n",
       "    </tr>\n",
       "    <tr>\n",
       "      <th>4</th>\n",
       "      <td>-1.731970</td>\n",
       "      <td>3.780946e-01</td>\n",
       "      <td>0.634498</td>\n",
       "      <td>1.064895</td>\n",
       "      <td>-1.193723</td>\n",
       "      <td>0.835268</td>\n",
       "      <td>-0.028862</td>\n",
       "      <td>-0.854822</td>\n",
       "    </tr>\n",
       "  </tbody>\n",
       "</table>\n",
       "</div>"
      ],
      "text/plain": [
       "   Unnamed: 0        weight    rating  rented for  body type    height  \\\n",
       "0   -1.732042 -1.946600e-02  0.634498    0.664564  -0.142497  0.622136   \n",
       "1   -1.732024 -2.679414e-01  0.634498   -0.536429   1.434341  0.195872   \n",
       "2   -1.732006 -2.666196e-08  0.634498   -0.136098   1.959954 -0.230392   \n",
       "3   -1.731988 -1.188562e-01 -0.764242   -0.936760   0.383116 -0.017260   \n",
       "4   -1.731970  3.780946e-01  0.634498    1.064895  -1.193723  0.835268   \n",
       "\n",
       "       size        age  \n",
       "0  0.206575  -0.730412  \n",
       "1 -0.028862   0.264866  \n",
       "2 -0.970608  10.217655  \n",
       "3 -0.499735   0.016047  \n",
       "4 -0.028862  -0.854822  "
      ]
     },
     "execution_count": 38,
     "metadata": {},
     "output_type": "execute_result"
    }
   ],
   "source": [
    "# Standardizing the data\n",
    "\n",
    "sc = StandardScaler()# create an  object\n",
    "\n",
    "df_scaled3 = dff_final.copy()\n",
    "\n",
    "df_scaled3.iloc[:,:8] = sc.fit_transform(df_scaled3.iloc[:,:8])\n",
    "df_scaled3.head()"
   ]
  },
  {
   "cell_type": "code",
   "execution_count": null,
   "id": "bbea2408",
   "metadata": {},
   "outputs": [],
   "source": []
  },
  {
   "cell_type": "code",
   "execution_count": 39,
   "id": "ab2aba79",
   "metadata": {},
   "outputs": [
    {
     "data": {
      "text/plain": [
       "array([[ 1.00000519e+00,  4.27830898e-04, -2.79599879e-03,\n",
       "        -9.12277777e-05,  1.97637599e-03,  2.95003704e-03,\n",
       "         7.71673203e-04,  5.40105901e-04],\n",
       "       [ 4.27830898e-04,  1.00000519e+00, -2.07327771e-02,\n",
       "         9.01576992e-03, -1.93136958e-01,  1.99162415e-01,\n",
       "         7.32740550e-01,  6.12871101e-02],\n",
       "       [-2.79599879e-03, -2.07327771e-02,  1.00000519e+00,\n",
       "         1.28198258e-02,  1.77133624e-02,  4.20104935e-03,\n",
       "        -3.67286881e-02, -3.51011698e-02],\n",
       "       [-9.12277777e-05,  9.01576992e-03,  1.28198258e-02,\n",
       "         1.00000519e+00,  4.19092672e-03, -1.33535878e-02,\n",
       "         3.27664525e-03, -4.08267363e-02],\n",
       "       [ 1.97637599e-03, -1.93136958e-01,  1.77133624e-02,\n",
       "         4.19092672e-03,  1.00000519e+00, -6.91277482e-02,\n",
       "        -1.71640765e-01, -5.58346920e-02],\n",
       "       [ 2.95003704e-03,  1.99162415e-01,  4.20104935e-03,\n",
       "        -1.33535878e-02, -6.91277482e-02,  1.00000519e+00,\n",
       "         1.25981229e-01,  4.43769733e-03],\n",
       "       [ 7.71673203e-04,  7.32740550e-01, -3.67286881e-02,\n",
       "         3.27664525e-03, -1.71640765e-01,  1.25981229e-01,\n",
       "         1.00000519e+00,  1.55254731e-01],\n",
       "       [ 5.40105901e-04,  6.12871101e-02, -3.51011698e-02,\n",
       "        -4.08267363e-02, -5.58346920e-02,  4.43769733e-03,\n",
       "         1.55254731e-01,  1.00000519e+00]])"
      ]
     },
     "execution_count": 39,
     "metadata": {},
     "output_type": "execute_result"
    }
   ],
   "source": [
    "#14. Apply PCA on the above dataset and determine the number of PCA\n",
    "#components to be used so that 90-95% of the variance in data is explained by\n",
    "#the same. (7)\n",
    "cov_matrix = np.cov(df_scaled3.T)\n",
    "cov_matrix"
   ]
  },
  {
   "cell_type": "code",
   "execution_count": 40,
   "id": "8c79f4ae",
   "metadata": {},
   "outputs": [
    {
     "name": "stdout",
     "output_type": "stream",
     "text": [
      "eigen vals \n",
      " [1.91003427 0.25720975 1.05383899 0.89857924 0.91788305 0.9671242\n",
      " 1.00040205 0.99496998]\n",
      "\n",
      "\n",
      "eigen vectors \n",
      " [[-1.29670566e-03  4.28147693e-04 -1.64339562e-02 -2.15983071e-02\n",
      "  -2.80437246e-02 -9.04185301e-02  9.92524159e-01  7.20791686e-02]\n",
      " [-6.43039775e-01  7.06017756e-01  1.19119578e-01 -2.00886889e-01\n",
      "   1.81675531e-01  3.84636853e-03  3.49861975e-03 -2.14645523e-02]\n",
      " [ 5.16152512e-02 -1.07382509e-02  5.07734634e-01 -4.73456047e-04\n",
      "  -3.02994221e-02 -6.69163939e-01 -9.19318166e-02  5.31296511e-01]\n",
      " [ 4.85103156e-03 -1.76607504e-03  5.40789116e-01  3.39897420e-01\n",
      "  -3.96692615e-02 -1.85479444e-01  5.23578675e-02 -7.43822965e-01]\n",
      " [ 2.87675636e-01  2.26656940e-02  4.78355517e-02  5.03192003e-02\n",
      "   9.54301170e-01  1.61294090e-02  3.01921500e-02  6.80337490e-03]\n",
      " [-2.51657354e-01 -6.92002123e-02  2.57033863e-01  6.97586351e-01\n",
      "   1.59003279e-02  4.77700810e-01  3.50243832e-02  3.86664184e-01]\n",
      " [-6.38498796e-01 -6.98673592e-01  9.87817727e-03 -1.99636384e-01\n",
      "   2.21364746e-01 -9.87870821e-02 -2.09381529e-03 -7.38688941e-02]\n",
      " [-1.73323665e-01  8.92923556e-02 -6.05673922e-01  5.60922512e-01\n",
      "   6.13999307e-02 -5.20969850e-01 -3.93457904e-02 -6.15076453e-02]]\n"
     ]
    }
   ],
   "source": [
    "eig_vals,eig_vectors=np.linalg.eig(cov_matrix)\n",
    "print('eigen vals','\\n',eig_vals)\n",
    "print('\\n')\n",
    "print('eigen vectors','\\n',eig_vectors)"
   ]
  },
  {
   "cell_type": "code",
   "execution_count": 41,
   "id": "196eaa8f",
   "metadata": {},
   "outputs": [
    {
     "name": "stdout",
     "output_type": "stream",
     "text": [
      "Explained Variance:  [23.87530443058751, 13.17291896221318, 12.50496067473412, 12.437060179179438, 12.088989776480197, 11.4734785823087, 11.232182205002058, 3.215105189494801]\n",
      "Cumulative variance explained:  [ 23.87530443  37.04822339  49.55318407  61.99024425  74.07923402\n",
      "  85.55271261  96.78489481 100.        ]\n"
     ]
    }
   ],
   "source": [
    "total = sum(eig_vals)\n",
    "var_exp = [(i/total)*100 for i  in sorted(eig_vals,reverse=True)]\n",
    "cum_var_exp = np.cumsum(var_exp)\n",
    "print('Explained Variance: ',var_exp)\n",
    "print('Cumulative variance explained: ',cum_var_exp)"
   ]
  },
  {
   "cell_type": "code",
   "execution_count": 42,
   "id": "486465d1",
   "metadata": {},
   "outputs": [
    {
     "data": {
      "image/png": "[encoded data removed]",
      "text/plain": [
       "<Figure size 640x480 with 1 Axes>"
      ]
     },
     "metadata": {},
     "output_type": "display_data"
    }
   ],
   "source": [
    "plt.bar(range(8),var_exp,align='center',color = 'lightgreen',edgecolor='black',label='Explained Variance')\n",
    "plt.step(range(8),cum_var_exp,where='mid',color='red',label='Cumulative Explained Variance')\n",
    "plt.xlabel('Principal Components')\n",
    "plt.ylabel('Explained Variance Ratio')\n",
    "plt.title('Screen plot')\n",
    "plt.legend(loc='best')\n",
    "plt.show()\n"
   ]
  },
  {
   "cell_type": "code",
   "execution_count": 43,
   "id": "75f75b87",
   "metadata": {},
   "outputs": [
    {
     "data": {
      "text/html": [
       "<div>\n",
       "<style scoped>\n",
       "    .dataframe tbody tr th:only-of-type {\n",
       "        vertical-align: middle;\n",
       "    }\n",
       "\n",
       "    .dataframe tbody tr th {\n",
       "        vertical-align: top;\n",
       "    }\n",
       "\n",
       "    .dataframe thead th {\n",
       "        text-align: right;\n",
       "    }\n",
       "</style>\n",
       "<table border=\"1\" class=\"dataframe\">\n",
       "  <thead>\n",
       "    <tr style=\"text-align: right;\">\n",
       "      <th></th>\n",
       "      <th>PC1</th>\n",
       "      <th>PC2</th>\n",
       "      <th>PC3</th>\n",
       "      <th>PC4</th>\n",
       "      <th>PC5</th>\n",
       "      <th>PC6</th>\n",
       "      <th>PC7</th>\n",
       "      <th>PC8</th>\n",
       "    </tr>\n",
       "  </thead>\n",
       "  <tbody>\n",
       "    <tr>\n",
       "      <th>0</th>\n",
       "      <td>0.152121</td>\n",
       "      <td>-1.305217</td>\n",
       "      <td>1.696903</td>\n",
       "      <td>0.012383</td>\n",
       "      <td>-0.263700</td>\n",
       "      <td>-0.125763</td>\n",
       "      <td>-0.242781</td>\n",
       "      <td>0.278302</td>\n",
       "    </tr>\n",
       "    <tr>\n",
       "      <th>1</th>\n",
       "      <td>-0.540543</td>\n",
       "      <td>0.013141</td>\n",
       "      <td>1.766625</td>\n",
       "      <td>-0.688359</td>\n",
       "      <td>0.187943</td>\n",
       "      <td>1.383731</td>\n",
       "      <td>-0.271747</td>\n",
       "      <td>0.133008</td>\n",
       "    </tr>\n",
       "    <tr>\n",
       "      <th>2</th>\n",
       "      <td>0.495083</td>\n",
       "      <td>5.886598</td>\n",
       "      <td>2.133398</td>\n",
       "      <td>0.319019</td>\n",
       "      <td>5.548386</td>\n",
       "      <td>2.313974</td>\n",
       "      <td>-5.853835</td>\n",
       "      <td>-1.643549</td>\n",
       "    </tr>\n",
       "    <tr>\n",
       "      <th>3</th>\n",
       "      <td>-0.465540</td>\n",
       "      <td>0.881082</td>\n",
       "      <td>1.686867</td>\n",
       "      <td>-0.200316</td>\n",
       "      <td>-0.880241</td>\n",
       "      <td>0.342990</td>\n",
       "      <td>0.140752</td>\n",
       "      <td>-0.285667</td>\n",
       "    </tr>\n",
       "    <tr>\n",
       "      <th>4</th>\n",
       "      <td>0.589986</td>\n",
       "      <td>-1.646590</td>\n",
       "      <td>1.693366</td>\n",
       "      <td>0.218385</td>\n",
       "      <td>-0.363899</td>\n",
       "      <td>-1.128972</td>\n",
       "      <td>-0.371985</td>\n",
       "      <td>-0.116484</td>\n",
       "    </tr>\n",
       "  </tbody>\n",
       "</table>\n",
       "</div>"
      ],
      "text/plain": [
       "        PC1       PC2       PC3       PC4       PC5       PC6       PC7  \\\n",
       "0  0.152121 -1.305217  1.696903  0.012383 -0.263700 -0.125763 -0.242781   \n",
       "1 -0.540543  0.013141  1.766625 -0.688359  0.187943  1.383731 -0.271747   \n",
       "2  0.495083  5.886598  2.133398  0.319019  5.548386  2.313974 -5.853835   \n",
       "3 -0.465540  0.881082  1.686867 -0.200316 -0.880241  0.342990  0.140752   \n",
       "4  0.589986 -1.646590  1.693366  0.218385 -0.363899 -1.128972 -0.371985   \n",
       "\n",
       "        PC8  \n",
       "0  0.278302  \n",
       "1  0.133008  \n",
       "2 -1.643549  \n",
       "3 -0.285667  \n",
       "4 -0.116484  "
      ]
     },
     "execution_count": 43,
     "metadata": {},
     "output_type": "execute_result"
    }
   ],
   "source": [
    "#15. Apply K-means clustering and segment the data. (You may use original\n",
    "#data or PCA transformed data) (8)\n",
    "pca = PCA(n_components=8)\n",
    "\n",
    "pca_df = pd.DataFrame(pca.fit_transform(df_scaled3),columns=['PC1','PC2','PC3','PC4','PC5','PC6','PC7','PC8'])\n",
    "pca_df.head()"
   ]
  },
  {
   "cell_type": "code",
   "execution_count": 57,
   "id": "afb54fe3",
   "metadata": {},
   "outputs": [
    {
     "data": {
      "text/html": [
       "<div>\n",
       "<style scoped>\n",
       "    .dataframe tbody tr th:only-of-type {\n",
       "        vertical-align: middle;\n",
       "    }\n",
       "\n",
       "    .dataframe tbody tr th {\n",
       "        vertical-align: top;\n",
       "    }\n",
       "\n",
       "    .dataframe thead th {\n",
       "        text-align: right;\n",
       "    }\n",
       "</style>\n",
       "<table border=\"1\" class=\"dataframe\">\n",
       "  <thead>\n",
       "    <tr style=\"text-align: right;\">\n",
       "      <th></th>\n",
       "      <th>num_clusters</th>\n",
       "      <th>cluster_errors</th>\n",
       "    </tr>\n",
       "  </thead>\n",
       "  <tbody>\n",
       "    <tr>\n",
       "      <th>0</th>\n",
       "      <td>1</td>\n",
       "      <td>1.540352e+06</td>\n",
       "    </tr>\n",
       "    <tr>\n",
       "      <th>1</th>\n",
       "      <td>2</td>\n",
       "      <td>1.322291e+06</td>\n",
       "    </tr>\n",
       "    <tr>\n",
       "      <th>2</th>\n",
       "      <td>3</td>\n",
       "      <td>1.205067e+06</td>\n",
       "    </tr>\n",
       "    <tr>\n",
       "      <th>3</th>\n",
       "      <td>4</td>\n",
       "      <td>1.091112e+06</td>\n",
       "    </tr>\n",
       "    <tr>\n",
       "      <th>4</th>\n",
       "      <td>5</td>\n",
       "      <td>9.873651e+05</td>\n",
       "    </tr>\n",
       "    <tr>\n",
       "      <th>5</th>\n",
       "      <td>6</td>\n",
       "      <td>9.073437e+05</td>\n",
       "    </tr>\n",
       "    <tr>\n",
       "      <th>6</th>\n",
       "      <td>7</td>\n",
       "      <td>8.384227e+05</td>\n",
       "    </tr>\n",
       "  </tbody>\n",
       "</table>\n",
       "</div>"
      ],
      "text/plain": [
       "   num_clusters  cluster_errors\n",
       "0             1    1.540352e+06\n",
       "1             2    1.322291e+06\n",
       "2             3    1.205067e+06\n",
       "3             4    1.091112e+06\n",
       "4             5    9.873651e+05\n",
       "5             6    9.073437e+05\n",
       "6             7    8.384227e+05"
      ]
     },
     "execution_count": 57,
     "metadata": {},
     "output_type": "execute_result"
    }
   ],
   "source": [
    "cluster_range = range(1,8)\n",
    "cluster_errors = []\n",
    "\n",
    "for num_clusters in cluster_range:\n",
    "   \n",
    "    clusters = KMeans(num_clusters, n_init=10)\n",
    "    clusters.fit(pca_df)\n",
    "    \n",
    "    labels = clusters.labels_\n",
    "    centroids = clusters.cluster_centers_\n",
    "    \n",
    "    cluster_errors.append(clusters.inertia_)\n",
    "\n",
    "clusters_df = pd.DataFrame({'num_clusters':cluster_range, \n",
    "                           'cluster_errors':cluster_errors})\n",
    "\n",
    "clusters_df"
   ]
  },
  {
   "cell_type": "code",
   "execution_count": 58,
   "id": "95a4e676",
   "metadata": {},
   "outputs": [
    {
     "data": {
      "image/png": "[encoded data removed]",
      "text/plain": [
       "<Figure size 1200x600 with 1 Axes>"
      ]
     },
     "metadata": {},
     "output_type": "display_data"
    }
   ],
   "source": [
    "## Elbow method\n",
    "plt.figure(figsize=[12,6])\n",
    "plt.title('The Elbow Method')\n",
    "plt.xlabel('Number of clusters using PCA')\n",
    "plt.plot(clusters_df['num_clusters'],clusters_df['cluster_errors'],marker='o',color='b')\n",
    "plt.show()"
   ]
  },
  {
   "cell_type": "code",
   "execution_count": 59,
   "id": "d722054a",
   "metadata": {},
   "outputs": [
    {
     "data": {
      "text/html": [
       "<style>#sk-container-id-2 {color: black;background-color: white;}#sk-container-id-2 pre{padding: 0;}#sk-container-id-2 div.sk-toggleable {background-color: white;}#sk-container-id-2 label.sk-toggleable__label {cursor: pointer;display: block;width: 100%;margin-bottom: 0;padding: 0.3em;box-sizing: border-box;text-align: center;}#sk-container-id-2 label.sk-toggleable__label-arrow:before {content: \"▸\";float: left;margin-right: 0.25em;color: #696969;}#sk-container-id-2 label.sk-toggleable__label-arrow:hover:before {color: black;}#sk-container-id-2 div.sk-estimator:hover label.sk-toggleable__label-arrow:before {color: black;}#sk-container-id-2 div.sk-toggleable__content {max-height: 0;max-width: 0;overflow: hidden;text-align: left;background-color: #f0f8ff;}#sk-container-id-2 div.sk-toggleable__content pre {margin: 0.2em;color: black;border-radius: 0.25em;background-color: #f0f8ff;}#sk-container-id-2 input.sk-toggleable__control:checked~div.sk-toggleable__content {max-height: 200px;max-width: 100%;overflow: auto;}#sk-container-id-2 input.sk-toggleable__control:checked~label.sk-toggleable__label-arrow:before {content: \"▾\";}#sk-container-id-2 div.sk-estimator input.sk-toggleable__control:checked~label.sk-toggleable__label {background-color: #d4ebff;}#sk-container-id-2 div.sk-label input.sk-toggleable__control:checked~label.sk-toggleable__label {background-color: #d4ebff;}#sk-container-id-2 input.sk-hidden--visually {border: 0;clip: rect(1px 1px 1px 1px);clip: rect(1px, 1px, 1px, 1px);height: 1px;margin: -1px;overflow: hidden;padding: 0;position: absolute;width: 1px;}#sk-container-id-2 div.sk-estimator {font-family: monospace;background-color: #f0f8ff;border: 1px dotted black;border-radius: 0.25em;box-sizing: border-box;margin-bottom: 0.5em;}#sk-container-id-2 div.sk-estimator:hover {background-color: #d4ebff;}#sk-container-id-2 div.sk-parallel-item::after {content: \"\";width: 100%;border-bottom: 1px solid gray;flex-grow: 1;}#sk-container-id-2 div.sk-label:hover label.sk-toggleable__label {background-color: #d4ebff;}#sk-container-id-2 div.sk-serial::before {content: \"\";position: absolute;border-left: 1px solid gray;box-sizing: border-box;top: 0;bottom: 0;left: 50%;z-index: 0;}#sk-container-id-2 div.sk-serial {display: flex;flex-direction: column;align-items: center;background-color: white;padding-right: 0.2em;padding-left: 0.2em;position: relative;}#sk-container-id-2 div.sk-item {position: relative;z-index: 1;}#sk-container-id-2 div.sk-parallel {display: flex;align-items: stretch;justify-content: center;background-color: white;position: relative;}#sk-container-id-2 div.sk-item::before, #sk-container-id-2 div.sk-parallel-item::before {content: \"\";position: absolute;border-left: 1px solid gray;box-sizing: border-box;top: 0;bottom: 0;left: 50%;z-index: -1;}#sk-container-id-2 div.sk-parallel-item {display: flex;flex-direction: column;z-index: 1;position: relative;background-color: white;}#sk-container-id-2 div.sk-parallel-item:first-child::after {align-self: flex-end;width: 50%;}#sk-container-id-2 div.sk-parallel-item:last-child::after {align-self: flex-start;width: 50%;}#sk-container-id-2 div.sk-parallel-item:only-child::after {width: 0;}#sk-container-id-2 div.sk-dashed-wrapped {border: 1px dashed gray;margin: 0 0.4em 0.5em 0.4em;box-sizing: border-box;padding-bottom: 0.4em;background-color: white;}#sk-container-id-2 div.sk-label label {font-family: monospace;font-weight: bold;display: inline-block;line-height: 1.2em;}#sk-container-id-2 div.sk-label-container {text-align: center;}#sk-container-id-2 div.sk-container {/* jupyter's `normalize.less` sets `[hidden] { display: none; }` but bootstrap.min.css set `[hidden] { display: none !important; }` so we also need the `!important` here to be able to override the default hidden behavior on the sphinx rendered scikit-learn.org. See: https://github.com/scikit-learn/scikit-learn/issues/21755 */display: inline-block !important;position: relative;}#sk-container-id-2 div.sk-text-repr-fallback {display: none;}</style><div id=\"sk-container-id-2\" class=\"sk-top-container\"><div class=\"sk-text-repr-fallback\"><pre>KMeans(n_clusters=6, n_init=15, random_state=2345)</pre><b>In a Jupyter environment, please rerun this cell to show the HTML representation or trust the notebook. <br />On GitHub, the HTML representation is unable to render, please try loading this page with nbviewer.org.</b></div><div class=\"sk-container\" hidden><div class=\"sk-item\"><div class=\"sk-estimator sk-toggleable\"><input class=\"sk-toggleable__control sk-hidden--visually\" id=\"sk-estimator-id-2\" type=\"checkbox\" checked><label for=\"sk-estimator-id-2\" class=\"sk-toggleable__label sk-toggleable__label-arrow\">KMeans</label><div class=\"sk-toggleable__content\"><pre>KMeans(n_clusters=6, n_init=15, random_state=2345)</pre></div></div></div></div></div>"
      ],
      "text/plain": [
       "KMeans(n_clusters=6, n_init=15, random_state=2345)"
      ]
     },
     "execution_count": 59,
     "metadata": {},
     "output_type": "execute_result"
    }
   ],
   "source": [
    "## Fit the KMeans clustering model using the obtained optimal K\n",
    "kmeans = KMeans(n_clusters=6, n_init=15, random_state=2345)\n",
    "kmeans.fit(pca_df)"
   ]
  },
  {
   "cell_type": "code",
   "execution_count": 60,
   "id": "f538c958",
   "metadata": {},
   "outputs": [
    {
     "data": {
      "text/plain": [
       "array([2, 4, 4, ..., 1, 2, 2])"
      ]
     },
     "execution_count": 60,
     "metadata": {},
     "output_type": "execute_result"
    }
   ],
   "source": [
    "kmeans.labels_"
   ]
  },
  {
   "cell_type": "code",
   "execution_count": 61,
   "id": "e23a4538",
   "metadata": {},
   "outputs": [
    {
     "data": {
      "text/html": [
       "<div>\n",
       "<style scoped>\n",
       "    .dataframe tbody tr th:only-of-type {\n",
       "        vertical-align: middle;\n",
       "    }\n",
       "\n",
       "    .dataframe tbody tr th {\n",
       "        vertical-align: top;\n",
       "    }\n",
       "\n",
       "    .dataframe thead th {\n",
       "        text-align: right;\n",
       "    }\n",
       "</style>\n",
       "<table border=\"1\" class=\"dataframe\">\n",
       "  <thead>\n",
       "    <tr style=\"text-align: right;\">\n",
       "      <th></th>\n",
       "      <th>Labels</th>\n",
       "    </tr>\n",
       "  </thead>\n",
       "  <tbody>\n",
       "    <tr>\n",
       "      <th>0</th>\n",
       "      <td>2</td>\n",
       "    </tr>\n",
       "    <tr>\n",
       "      <th>1</th>\n",
       "      <td>4</td>\n",
       "    </tr>\n",
       "    <tr>\n",
       "      <th>2</th>\n",
       "      <td>4</td>\n",
       "    </tr>\n",
       "    <tr>\n",
       "      <th>3</th>\n",
       "      <td>0</td>\n",
       "    </tr>\n",
       "    <tr>\n",
       "      <th>4</th>\n",
       "      <td>2</td>\n",
       "    </tr>\n",
       "  </tbody>\n",
       "</table>\n",
       "</div>"
      ],
      "text/plain": [
       "   Labels\n",
       "0       2\n",
       "1       4\n",
       "2       4\n",
       "3       0\n",
       "4       2"
      ]
     },
     "execution_count": 61,
     "metadata": {},
     "output_type": "execute_result"
    }
   ],
   "source": [
    "## Creating a new dataframe only for labels.\n",
    "df_labels = pd.DataFrame(kmeans.labels_, columns=list(['Labels']))\n",
    "df_labels.head(5)"
   ]
  },
  {
   "cell_type": "code",
   "execution_count": 62,
   "id": "5d30a812",
   "metadata": {},
   "outputs": [
    {
     "name": "stdout",
     "output_type": "stream",
     "text": [
      "2 0.14729967705415822\n",
      "3 0.12785872454934766\n",
      "4 0.12280167990729339\n"
     ]
    }
   ],
   "source": [
    "from sklearn.metrics import silhouette_score\n",
    "\n",
    "kmeans_score = []\n",
    "\n",
    "for i in range(2,5):\n",
    "    kmeans = KMeans(n_clusters=i)\n",
    "    kmeans = kmeans.fit(pca_df)\n",
    "    labels = kmeans.predict(pca_df)\n",
    "    print(i, (pca_df,labels))"
   ]
  },
  {
   "cell_type": "code",
   "execution_count": 71,
   "id": "96ef94ce",
   "metadata": {},
   "outputs": [
    {
     "data": {
      "image/png": "[encoded data removed]",
      "text/plain": [
       "<Figure size 500x300 with 1 Axes>"
      ]
     },
     "metadata": {},
     "output_type": "display_data"
    }
   ],
   "source": [
    "#16. Apply Agglomerative clustering and segment the data. (You may use\n",
    "# original data or PCA transformed data) (8)\n",
    "rows = pca_df.sample(frac =.10)\n",
    "plt.figure(figsize=[5,3])\n",
    "merg = linkage(rows, method='ward')\n",
    "dendrogram(merg, leaf_rotation=90,)\n",
    "plt.xlabel('Datapoints')\n",
    "plt.ylabel('Euclidean distance')\n",
    "plt.show()"
   ]
  },
  {
   "cell_type": "code",
   "execution_count": 77,
   "id": "7f4ee15e",
   "metadata": {},
   "outputs": [],
   "source": [
    "## Building hierarchical clustering model using the optimal clusters as 4\n",
    "hie_cluster = AgglomerativeClustering(n_clusters=4, affinity='euclidean',\n",
    "                                     linkage='ward')\n",
    "hie_cluster_model = hie_cluster.fit(rows)"
   ]
  },
  {
   "cell_type": "code",
   "execution_count": 78,
   "id": "02f02d17",
   "metadata": {},
   "outputs": [
    {
     "data": {
      "text/html": [
       "<div>\n",
       "<style scoped>\n",
       "    .dataframe tbody tr th:only-of-type {\n",
       "        vertical-align: middle;\n",
       "    }\n",
       "\n",
       "    .dataframe tbody tr th {\n",
       "        vertical-align: top;\n",
       "    }\n",
       "\n",
       "    .dataframe thead th {\n",
       "        text-align: right;\n",
       "    }\n",
       "</style>\n",
       "<table border=\"1\" class=\"dataframe\">\n",
       "  <thead>\n",
       "    <tr style=\"text-align: right;\">\n",
       "      <th></th>\n",
       "      <th>Labels</th>\n",
       "    </tr>\n",
       "  </thead>\n",
       "  <tbody>\n",
       "    <tr>\n",
       "      <th>0</th>\n",
       "      <td>3</td>\n",
       "    </tr>\n",
       "    <tr>\n",
       "      <th>1</th>\n",
       "      <td>1</td>\n",
       "    </tr>\n",
       "    <tr>\n",
       "      <th>2</th>\n",
       "      <td>0</td>\n",
       "    </tr>\n",
       "    <tr>\n",
       "      <th>3</th>\n",
       "      <td>1</td>\n",
       "    </tr>\n",
       "    <tr>\n",
       "      <th>4</th>\n",
       "      <td>3</td>\n",
       "    </tr>\n",
       "  </tbody>\n",
       "</table>\n",
       "</div>"
      ],
      "text/plain": [
       "   Labels\n",
       "0       3\n",
       "1       1\n",
       "2       0\n",
       "3       1\n",
       "4       3"
      ]
     },
     "execution_count": 78,
     "metadata": {},
     "output_type": "execute_result"
    }
   ],
   "source": [
    "df_label1 = pd.DataFrame(hie_cluster_model.labels_,columns=['Labels'])\n",
    "df_label1.head(5)"
   ]
  },
  {
   "cell_type": "code",
   "execution_count": 79,
   "id": "25626e2e",
   "metadata": {},
   "outputs": [
    {
     "data": {
      "text/html": [
       "<div>\n",
       "<style scoped>\n",
       "    .dataframe tbody tr th:only-of-type {\n",
       "        vertical-align: middle;\n",
       "    }\n",
       "\n",
       "    .dataframe tbody tr th {\n",
       "        vertical-align: top;\n",
       "    }\n",
       "\n",
       "    .dataframe thead th {\n",
       "        text-align: right;\n",
       "    }\n",
       "</style>\n",
       "<table border=\"1\" class=\"dataframe\">\n",
       "  <thead>\n",
       "    <tr style=\"text-align: right;\">\n",
       "      <th></th>\n",
       "      <th>Unnamed: 0</th>\n",
       "      <th>fit</th>\n",
       "      <th>bust size</th>\n",
       "      <th>weight</th>\n",
       "      <th>rating</th>\n",
       "      <th>rented for</th>\n",
       "      <th>body type</th>\n",
       "      <th>category</th>\n",
       "      <th>height</th>\n",
       "      <th>size</th>\n",
       "      <th>age</th>\n",
       "      <th>review_date</th>\n",
       "      <th>Labels</th>\n",
       "    </tr>\n",
       "  </thead>\n",
       "  <tbody>\n",
       "    <tr>\n",
       "      <th>0</th>\n",
       "      <td>0</td>\n",
       "      <td>fit</td>\n",
       "      <td>34d</td>\n",
       "      <td>137.000000</td>\n",
       "      <td>10.0</td>\n",
       "      <td>6</td>\n",
       "      <td>3</td>\n",
       "      <td>romper</td>\n",
       "      <td>68.0</td>\n",
       "      <td>14</td>\n",
       "      <td>28.0</td>\n",
       "      <td>April 20, 2016</td>\n",
       "      <td>3.0</td>\n",
       "    </tr>\n",
       "    <tr>\n",
       "      <th>1</th>\n",
       "      <td>1</td>\n",
       "      <td>fit</td>\n",
       "      <td>34b</td>\n",
       "      <td>132.000000</td>\n",
       "      <td>10.0</td>\n",
       "      <td>3</td>\n",
       "      <td>6</td>\n",
       "      <td>gown</td>\n",
       "      <td>66.0</td>\n",
       "      <td>12</td>\n",
       "      <td>36.0</td>\n",
       "      <td>June 18, 2013</td>\n",
       "      <td>1.0</td>\n",
       "    </tr>\n",
       "    <tr>\n",
       "      <th>2</th>\n",
       "      <td>2</td>\n",
       "      <td>fit</td>\n",
       "      <td>Unknown</td>\n",
       "      <td>137.391708</td>\n",
       "      <td>10.0</td>\n",
       "      <td>4</td>\n",
       "      <td>7</td>\n",
       "      <td>sheath</td>\n",
       "      <td>64.0</td>\n",
       "      <td>4</td>\n",
       "      <td>116.0</td>\n",
       "      <td>December 14, 2015</td>\n",
       "      <td>0.0</td>\n",
       "    </tr>\n",
       "    <tr>\n",
       "      <th>3</th>\n",
       "      <td>3</td>\n",
       "      <td>fit</td>\n",
       "      <td>34c</td>\n",
       "      <td>135.000000</td>\n",
       "      <td>8.0</td>\n",
       "      <td>2</td>\n",
       "      <td>4</td>\n",
       "      <td>dress</td>\n",
       "      <td>65.0</td>\n",
       "      <td>8</td>\n",
       "      <td>34.0</td>\n",
       "      <td>February 12, 2014</td>\n",
       "      <td>1.0</td>\n",
       "    </tr>\n",
       "    <tr>\n",
       "      <th>4</th>\n",
       "      <td>4</td>\n",
       "      <td>fit</td>\n",
       "      <td>34b</td>\n",
       "      <td>145.000000</td>\n",
       "      <td>10.0</td>\n",
       "      <td>7</td>\n",
       "      <td>1</td>\n",
       "      <td>gown</td>\n",
       "      <td>69.0</td>\n",
       "      <td>12</td>\n",
       "      <td>27.0</td>\n",
       "      <td>September 26, 2016</td>\n",
       "      <td>3.0</td>\n",
       "    </tr>\n",
       "  </tbody>\n",
       "</table>\n",
       "</div>"
      ],
      "text/plain": [
       "   Unnamed: 0  fit bust size      weight  rating  rented for  body type  \\\n",
       "0           0  fit       34d  137.000000    10.0           6          3   \n",
       "1           1  fit       34b  132.000000    10.0           3          6   \n",
       "2           2  fit   Unknown  137.391708    10.0           4          7   \n",
       "3           3  fit       34c  135.000000     8.0           2          4   \n",
       "4           4  fit       34b  145.000000    10.0           7          1   \n",
       "\n",
       "  category  height  size    age         review_date  Labels  \n",
       "0   romper    68.0    14   28.0      April 20, 2016     3.0  \n",
       "1     gown    66.0    12   36.0       June 18, 2013     1.0  \n",
       "2   sheath    64.0     4  116.0   December 14, 2015     0.0  \n",
       "3    dress    65.0     8   34.0   February 12, 2014     1.0  \n",
       "4     gown    69.0    12   27.0  September 26, 2016     3.0  "
      ]
     },
     "execution_count": 79,
     "metadata": {},
     "output_type": "execute_result"
    }
   ],
   "source": [
    "df_hier = df.join(df_label1)\n",
    "df_hier.head()"
   ]
  },
  {
   "cell_type": "code",
   "execution_count": null,
   "id": "01bf1ae6",
   "metadata": {},
   "outputs": [],
   "source": []
  },
  {
   "cell_type": "code",
   "execution_count": null,
   "id": "b655eedb",
   "metadata": {},
   "outputs": [],
   "source": []
  }
 ],
 "metadata": {
  "kernelspec": {
   "display_name": "Python 3 (ipykernel)",
   "language": "python",
   "name": "python3"
  },
  "language_info": {
   "codemirror_mode": {
    "name": "ipython",
    "version": 3
   },
   "file_extension": ".py",
   "mimetype": "text/x-python",
   "name": "python",
   "nbconvert_exporter": "python",
   "pygments_lexer": "ipython3",
   "version": "3.10.9"
  }
 },
 "nbformat": 4,
 "nbformat_minor": 5
}
